{
 "cells": [
  {
   "cell_type": "markdown",
   "id": "2e511c68",
   "metadata": {},
   "source": [
    "# String,Float,Int & Boolean"
   ]
  },
  {
   "cell_type": "code",
   "execution_count": 2,
   "id": "3941504b",
   "metadata": {},
   "outputs": [
    {
     "data": {
      "text/plain": [
       "True"
      ]
     },
     "execution_count": 2,
     "metadata": {},
     "output_type": "execute_result"
    }
   ],
   "source": [
    "fname = \"joel\"\n",
    "lname = \"aikoroje\"\n",
    "age = 50 \n",
    "length = 5.5#float\n",
    "6 == 6#boolean"
   ]
  },
  {
   "cell_type": "code",
   "execution_count": 4,
   "id": "aa24607d",
   "metadata": {},
   "outputs": [
    {
     "data": {
      "text/plain": [
       "True"
      ]
     },
     "execution_count": 4,
     "metadata": {},
     "output_type": "execute_result"
    }
   ],
   "source": [
    "6 == 6"
   ]
  },
  {
   "cell_type": "code",
   "execution_count": 6,
   "id": "2f920f19",
   "metadata": {},
   "outputs": [
    {
     "data": {
      "text/plain": [
       "False"
      ]
     },
     "execution_count": 6,
     "metadata": {},
     "output_type": "execute_result"
    }
   ],
   "source": [
    "6 =='6'"
   ]
  },
  {
   "cell_type": "markdown",
   "id": "b88bf98a",
   "metadata": {},
   "source": [
    "# Importing pandas"
   ]
  },
  {
   "cell_type": "code",
   "execution_count": 7,
   "id": "127dd6b6",
   "metadata": {},
   "outputs": [],
   "source": [
    "import pandas as pd"
   ]
  },
  {
   "cell_type": "code",
   "execution_count": 8,
   "id": "6abcaf45",
   "metadata": {},
   "outputs": [],
   "source": [
    "x = 5\n",
    "y =10"
   ]
  },
  {
   "cell_type": "code",
   "execution_count": 9,
   "id": "ef9c0a6a",
   "metadata": {},
   "outputs": [
    {
     "data": {
      "text/plain": [
       "15"
      ]
     },
     "execution_count": 9,
     "metadata": {},
     "output_type": "execute_result"
    }
   ],
   "source": [
    "x+y"
   ]
  },
  {
   "cell_type": "code",
   "execution_count": 10,
   "id": "135309f1",
   "metadata": {},
   "outputs": [
    {
     "data": {
      "text/plain": [
       "5"
      ]
     },
     "execution_count": 10,
     "metadata": {},
     "output_type": "execute_result"
    }
   ],
   "source": [
    "y-x"
   ]
  },
  {
   "cell_type": "code",
   "execution_count": 11,
   "id": "07e527c9",
   "metadata": {},
   "outputs": [
    {
     "data": {
      "text/plain": [
       "2.0"
      ]
     },
     "execution_count": 11,
     "metadata": {},
     "output_type": "execute_result"
    }
   ],
   "source": [
    "y/x"
   ]
  },
  {
   "cell_type": "code",
   "execution_count": 12,
   "id": "f0562806",
   "metadata": {},
   "outputs": [
    {
     "data": {
      "text/plain": [
       "0.5"
      ]
     },
     "execution_count": 12,
     "metadata": {},
     "output_type": "execute_result"
    }
   ],
   "source": [
    "x/y"
   ]
  },
  {
   "cell_type": "code",
   "execution_count": 13,
   "id": "35149f4d",
   "metadata": {},
   "outputs": [],
   "source": [
    "pp = 5\n",
    "z = 3"
   ]
  },
  {
   "cell_type": "code",
   "execution_count": 15,
   "id": "67c53cc1",
   "metadata": {},
   "outputs": [
    {
     "data": {
      "text/plain": [
       "3"
      ]
     },
     "execution_count": 15,
     "metadata": {},
     "output_type": "execute_result"
    }
   ],
   "source": [
    "z%pp"
   ]
  },
  {
   "cell_type": "code",
   "execution_count": 16,
   "id": "27d998b7",
   "metadata": {},
   "outputs": [],
   "source": [
    "v=5\n",
    "r=3"
   ]
  },
  {
   "cell_type": "code",
   "execution_count": 17,
   "id": "ed671bdb",
   "metadata": {},
   "outputs": [
    {
     "data": {
      "text/plain": [
       "2"
      ]
     },
     "execution_count": 17,
     "metadata": {},
     "output_type": "execute_result"
    }
   ],
   "source": [
    "v%r"
   ]
  },
  {
   "cell_type": "code",
   "execution_count": 18,
   "id": "5d704c65",
   "metadata": {},
   "outputs": [
    {
     "data": {
      "text/plain": [
       "3"
      ]
     },
     "execution_count": 18,
     "metadata": {},
     "output_type": "execute_result"
    }
   ],
   "source": [
    "r%v"
   ]
  },
  {
   "cell_type": "code",
   "execution_count": 19,
   "id": "59f42e4d",
   "metadata": {},
   "outputs": [],
   "source": [
    "g=7\n",
    "n=7"
   ]
  },
  {
   "cell_type": "code",
   "execution_count": 20,
   "id": "8ce67d96",
   "metadata": {},
   "outputs": [
    {
     "data": {
      "text/plain": [
       "0"
      ]
     },
     "execution_count": 20,
     "metadata": {},
     "output_type": "execute_result"
    }
   ],
   "source": [
    "g%n"
   ]
  },
  {
   "cell_type": "markdown",
   "id": "7b075d07",
   "metadata": {},
   "source": [
    "# If -else loop"
   ]
  },
  {
   "cell_type": "code",
   "execution_count": 2,
   "id": "aab8d264",
   "metadata": {
    "scrolled": true
   },
   "outputs": [
    {
     "name": "stdout",
     "output_type": "stream",
     "text": [
      "OK\n"
     ]
    }
   ],
   "source": [
    "if xx > xy:\n",
    "    print (\"OK\")\n",
    "\n",
    "elif xx == xy:\n",
    "    print('xx is = xy')\n",
    "\n",
    "elif xx < xy:\n",
    "    print('xx is less than xy')"
   ]
  },
  {
   "cell_type": "code",
   "execution_count": 10,
   "id": "422bbe77",
   "metadata": {},
   "outputs": [
    {
     "name": "stdout",
     "output_type": "stream",
     "text": [
      "IKEJA is the capital of lagos\n"
     ]
    }
   ],
   "source": [
    "#state and capital\n",
    "\n",
    "city1 = 'lekki'\n",
    "city2 = 'ikoyi'\n",
    "capital = 'ikeja'\n",
    "\n",
    "capital.upper()\n",
    "\n",
    "if capital == city1:\n",
    "   print(city1, 'is not the capirtal of lagos')\n",
    "    \n",
    "\n",
    "elif capital == city2:\n",
    "   print(city2, 'is not the capirtal of lagos')\n",
    "    \n",
    "    \n",
    "\n",
    "elif capital == capital:\n",
    "   print(capital.upper(), 'is the capital of lagos')\n",
    "    \n",
    "    "
   ]
  },
  {
   "cell_type": "code",
   "execution_count": 9,
   "id": "d4ed81f3",
   "metadata": {},
   "outputs": [
    {
     "name": "stdout",
     "output_type": "stream",
     "text": [
      "NOT OK\n"
     ]
    }
   ],
   "source": [
    "if xx < xy:\n",
    "    print (\"OK\")\n",
    "\n",
    "else:\n",
    "    print(\"NOT OK\")"
   ]
  },
  {
   "cell_type": "markdown",
   "id": "8c90e896",
   "metadata": {},
   "source": [
    "# list numbers "
   ]
  },
  {
   "cell_type": "code",
   "execution_count": 4,
   "id": "d4e77e3a",
   "metadata": {},
   "outputs": [
    {
     "name": "stdout",
     "output_type": "stream",
     "text": [
      "5\n",
      "6\n",
      "7\n",
      "8\n",
      "9\n",
      "10\n",
      "11\n"
     ]
    }
   ],
   "source": [
    "#list numbers between 1 and 10\n",
    "\n",
    "for i in range (5,12):\n",
    "    print(i)"
   ]
  },
  {
   "cell_type": "code",
   "execution_count": 5,
   "id": "61dd039c",
   "metadata": {},
   "outputs": [
    {
     "name": "stdout",
     "output_type": "stream",
     "text": [
      "4\n",
      "5\n",
      "6\n",
      "7\n",
      "8\n",
      "9\n",
      "10\n",
      "11\n",
      "12\n",
      "13\n",
      "14\n",
      "15\n",
      "16\n",
      "17\n",
      "18\n",
      "19\n"
     ]
    }
   ],
   "source": [
    "start_no = 4\n",
    "end_no = 20\n",
    "\n",
    "for i in range(start_no, end_no):\n",
    "    print(i)"
   ]
  },
  {
   "cell_type": "markdown",
   "id": "b58540a7",
   "metadata": {},
   "source": [
    "# list definations"
   ]
  },
  {
   "cell_type": "code",
   "execution_count": 7,
   "id": "d27f697e",
   "metadata": {},
   "outputs": [
    {
     "name": "stdout",
     "output_type": "stream",
     "text": [
      "43\n"
     ]
    }
   ],
   "source": [
    "number = [4,6,8,4,6,8,7] #DEFINE THE LIST\n",
    "\n",
    "sum = 0\n",
    "for i in number:\n",
    "    sum = sum + i\n",
    "    \n",
    "print(sum)\n",
    "\n"
   ]
  },
  {
   "cell_type": "code",
   "execution_count": 8,
   "id": "a611e61a",
   "metadata": {},
   "outputs": [
    {
     "name": "stdout",
     "output_type": "stream",
     "text": [
      "258048\n"
     ]
    }
   ],
   "source": [
    "#multiplication of list\n",
    "\n",
    "number = [4,6,8,4,6,8,7] #DEFINE THE LIST\n",
    "\n",
    "sum = 1\n",
    "for i in number:\n",
    "    sum = sum * i\n",
    "    \n",
    "print(sum)\n"
   ]
  },
  {
   "cell_type": "markdown",
   "id": "a2247b0f",
   "metadata": {},
   "source": [
    "# List"
   ]
  },
  {
   "cell_type": "code",
   "execution_count": 11,
   "id": "f706b89a",
   "metadata": {},
   "outputs": [],
   "source": [
    "List_cars = ['Lexus','BMW', 'Benz','Kia','Volvo', 'Venza']\n",
    "Even_numbers = [2, 4, 6 ,8 ,10]\n",
    "food_stuffs = ['beans', 'rice']\n",
    "\n"
   ]
  },
  {
   "cell_type": "code",
   "execution_count": 12,
   "id": "3f44c02d",
   "metadata": {},
   "outputs": [
    {
     "data": {
      "text/plain": [
       "['Lexus', 'BMW', 'Benz', 'Kia', 'Volvo', 'Venza']"
      ]
     },
     "execution_count": 12,
     "metadata": {},
     "output_type": "execute_result"
    }
   ],
   "source": [
    "List_cars"
   ]
  },
  {
   "cell_type": "code",
   "execution_count": 13,
   "id": "1177aec7",
   "metadata": {},
   "outputs": [
    {
     "data": {
      "text/plain": [
       "6"
      ]
     },
     "execution_count": 13,
     "metadata": {},
     "output_type": "execute_result"
    }
   ],
   "source": [
    "len(List_cars)"
   ]
  },
  {
   "cell_type": "code",
   "execution_count": 14,
   "id": "25979e58",
   "metadata": {},
   "outputs": [
    {
     "data": {
      "text/plain": [
       "'Kia'"
      ]
     },
     "execution_count": 14,
     "metadata": {},
     "output_type": "execute_result"
    }
   ],
   "source": [
    "List_cars[3]"
   ]
  },
  {
   "cell_type": "code",
   "execution_count": 15,
   "id": "59490d2f",
   "metadata": {},
   "outputs": [
    {
     "name": "stdout",
     "output_type": "stream",
     "text": [
      "Lexus\n",
      "BMW\n",
      "Benz\n",
      "Kia\n",
      "Volvo\n",
      "Venza\n"
     ]
    }
   ],
   "source": [
    "#iterating through the list\n",
    "for i in List_cars:\n",
    "    print(i)"
   ]
  },
  {
   "cell_type": "code",
   "execution_count": null,
   "id": "1934765c",
   "metadata": {},
   "outputs": [],
   "source": []
  }
 ],
 "metadata": {
  "kernelspec": {
   "display_name": "Python 3 (ipykernel)",
   "language": "python",
   "name": "python3"
  },
  "language_info": {
   "codemirror_mode": {
    "name": "ipython",
    "version": 3
   },
   "file_extension": ".py",
   "mimetype": "text/x-python",
   "name": "python",
   "nbconvert_exporter": "python",
   "pygments_lexer": "ipython3",
   "version": "3.11.5"
  }
 },
 "nbformat": 4,
 "nbformat_minor": 5
}
